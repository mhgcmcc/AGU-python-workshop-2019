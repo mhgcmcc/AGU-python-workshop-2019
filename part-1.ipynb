{
 "cells": [
  {
   "cell_type": "markdown",
   "metadata": {
    "slideshow": {
     "slide_type": "slide"
    }
   },
   "source": [
    "# Getting Started with Python for Earth Sciences: Jupyter Notebooks and Numpy\n",
    "## Eviatar Bach\n",
    "PhD student, Department of Atmospheric and Oceanic Science, University of Maryland, College Park\n",
    "\n",
    "[My website](http://eviatarbach.com/) | [My email](mailto:eviatarbach@protonmail.com)\n",
    "\n",
    "Notes prepared with Rebekah Esmaili and Kriti Bhargava"
   ]
  },
  {
   "cell_type": "markdown",
   "metadata": {
    "slideshow": {
     "slide_type": "slide"
    }
   },
   "source": [
    "# Introduction\n",
    "\n",
    "---\n",
    "\n",
    "## Why Python?\n",
    "\n",
    "Pros\n",
    "\n",
    "* General-purpose, cross-platform\n",
    "* Free and open source\n",
    "* Reasonably easy to learn\n",
    "* Expressive and succinct code, forces good style\n",
    "* Being interpreted and dynamically typed makes it great for data analysis\n",
    "* Robust ecosystem of scientific libraries, including powerful statistical and visualization packages\n",
    "* Large community of scientific users and large existing codebases\n",
    "* Major investment into Python ecosystem by Earth science research agencies, including NASA, NCAR, UK Met Office, and Lamont-Doherty Earth Observatory. See [Pangeo](https://pangeo.io/collaborators.html).\n",
    "* Reads Earth science data formats like HDF, NetCDF, GRIB\n",
    "\n",
    "Cons\n",
    "\n",
    "* Performance penalties for interpreted languages, although many libraries are wrappers for compiled languages. Avoid large loops in favor of matrix/vector operations when possible.\n",
    "* Multithreading is limited due to the Global Interpreter Lock, but other parallelism is available\n",
    "* See [Julia](https://julialang.org/) for a modern scientific language which is trying to overcome these challenges\n",
    "\n",
    "---\n",
    "\n",
    "## Objective: working with Earth science datasets\n",
    "\n",
    "* You won't learn how to code in Python\n",
    "* You will learn to:\n",
    "\t* Read/write ASCII data\n",
    "\t* Basic plotting and visualization\n",
    "\t* Perform data filtering\n",
    "    \n",
    "---\n",
    "\n",
    "Python is an interpreted language, so you will need as a minimum to have Python on your computer.\n",
    "\n",
    "## What is Anaconda?\n",
    "\n",
    "* Conda is a package manager\n",
    "* Anaconda comes with conda, as well as Python, a lot of useful scientific/mathematical packages, and development environments.\n",
    "* Easiest place to start if you're new\n",
    "\n",
    "## Development environments\n",
    "\n",
    "* Spyder: most Matlab-like\n",
    "* Jupyter notebooks: web based, runs code inline. Can also be run remotely over SSH; see [here](https://fizzylogic.nl/2017/11/06/edit-jupyter-notebooks-over-ssh/).\n",
    "* Text editor + run with command line for scripting ([IPython interpreter](https://ipython.org/) highly recommended)\n",
    "\n",
    "---\n",
    "## Launching Jupyter Notebook\n",
    "\n",
    "### Linux/Mac\n",
    "\n",
    "* Open terminal, **cd to the directory where you have your notebooks and data**, and type:\n",
    "```\n",
    "jupyter notebook    \n",
    "```\n",
    "\n",
    "### Windows\n",
    "\n",
    "* Start &rarr; Anaconda3 &rarr; Jupyter Notebook\n",
    "\n",
    "\n",
    "## Jupyter Home Screen\n",
    "\n",
    "* This will launch your default web browser with a local webserver that displays the contents of the directory that you're working in.\n",
    "\n",
    "* Note: in all the examples, the path assumed that Jupyter is launched from the notebook directory. You will need to change the path to point to your data if this is different.\n",
    "\n",
    "* Click on New on the top right.\n",
    "\n",
    "![](figures/jn-screenshot.png)"
   ]
  },
  {
   "cell_type": "markdown",
   "metadata": {},
   "source": [
    "<div class=\"alert alert-block alert-info\">\n",
    "\n",
    "<b> Exercise 1: Set up your environment and create a notebook </b>\n",
    "\n",
    "* For your operating system, launch Jupyter Notebooks\n",
    "* Create a new notebook\n",
    "* Change the name from \"untitled\" to something better\n",
    "* Save in the __same directory as the data folder__ that we provided (or move the data directory to the same place at the file because we'll need it later!).\n",
    "\n",
    "</div>"
   ]
  },
  {
   "cell_type": "markdown",
   "metadata": {},
   "source": [
    "## Basic Python commands\n"
   ]
  },
  {
   "cell_type": "code",
   "execution_count": 2,
   "metadata": {},
   "outputs": [
    {
     "name": "stdout",
     "output_type": "stream",
     "text": [
      "Hello, world!\n"
     ]
    }
   ],
   "source": [
    "# This is how we comment and below is how we print\n",
    "print(\"Hello, world!\")"
   ]
  },
  {
   "cell_type": "code",
   "execution_count": 3,
   "metadata": {},
   "outputs": [
    {
     "name": "stdout",
     "output_type": "stream",
     "text": [
      "0\n",
      "1\n",
      "2\n",
      "3\n",
      "4\n"
     ]
    }
   ],
   "source": [
    "# for loop\n",
    "for i in range(5):\n",
    "    print(i)"
   ]
  },
  {
   "cell_type": "code",
   "execution_count": 17,
   "metadata": {},
   "outputs": [
    {
     "name": "stdout",
     "output_type": "stream",
     "text": [
      "List of hurricanes in 2019:\n",
      "1 Barry\n",
      "2 Dorian\n",
      "3 Humberto\n",
      "4 Jerry\n",
      "5 Lorenzo\n",
      "6 Pablo\n"
     ]
    }
   ],
   "source": [
    "# iterating over list elements\n",
    "print(\"List of hurricanes in 2019:\")\n",
    "\n",
    "# hurricanes is a list (in computer science terminology, a linked list)\n",
    "hurricanes = [\"Barry\", \"Dorian\", \"Humberto\", \"Jerry\", \"Lorenzo\", \"Pablo\"]\n",
    "\n",
    "for idx, name in enumerate(hurricanes): # notice the colon at the end\n",
    "    print(idx + 1, name) # because index starts from zero in python"
   ]
  },
  {
   "cell_type": "code",
   "execution_count": 6,
   "metadata": {},
   "outputs": [],
   "source": [
    "a = [1, 2, 3, 4, 5, 6]\n",
    "b = a*2"
   ]
  },
  {
   "cell_type": "code",
   "execution_count": 7,
   "metadata": {},
   "outputs": [
    {
     "data": {
      "text/plain": [
       "[1, 2, 3, 4, 5, 6, 1, 2, 3, 4, 5, 6]"
      ]
     },
     "execution_count": 7,
     "metadata": {},
     "output_type": "execute_result"
    }
   ],
   "source": [
    "# Is this what you expected to happen?\n",
    "b"
   ]
  },
  {
   "cell_type": "markdown",
   "metadata": {},
   "source": [
    "* Python's default list structure is for any type, not designed specifically for numeric operations\n",
    "* Need to use an additional package to do vector/matrix operations"
   ]
  },
  {
   "cell_type": "markdown",
   "metadata": {},
   "source": [
    "## Importing packages\n",
    "Packages give us additional functionality, saving us the trouble of writing procedures ourselves. There are ~6000 packages in the [conda-forge repository](https://anaconda.org/conda-forge/repo) alone!\n",
    "\n",
    "We'll now import **NumPy**. NumPy provides high-performance multidimensional arrays and linear algebra operations (similar to Matlab). It is a fundamental package for scientific computing with Python."
   ]
  },
  {
   "cell_type": "code",
   "execution_count": 9,
   "metadata": {},
   "outputs": [],
   "source": [
    "# Importing NumPy\n",
    "import numpy as np # np becomes the alias for numpy"
   ]
  },
  {
   "cell_type": "code",
   "execution_count": 10,
   "metadata": {},
   "outputs": [
    {
     "name": "stdout",
     "output_type": "stream",
     "text": [
      "[ 2  4  6  8 10 12]\n"
     ]
    }
   ],
   "source": [
    "# NumPy arrays\n",
    "a = np.array(a) # a is now a NumPy array\n",
    "b = a*2\n",
    "\n",
    "print(b)"
   ]
  },
  {
   "cell_type": "code",
   "execution_count": 11,
   "metadata": {},
   "outputs": [
    {
     "name": "stdout",
     "output_type": "stream",
     "text": [
      "[[1 2]\n",
      " [3 4]\n",
      " [5 6]]\n"
     ]
    }
   ],
   "source": [
    "# Reshaping arrays\n",
    "a_reshaped = a.reshape(3, 2)\n",
    "print(a_reshaped)"
   ]
  },
  {
   "cell_type": "code",
   "execution_count": 12,
   "metadata": {},
   "outputs": [
    {
     "data": {
      "text/plain": [
       "array([ 9, 12])"
      ]
     },
     "execution_count": 12,
     "metadata": {},
     "output_type": "execute_result"
    }
   ],
   "source": [
    "# Sum vertically downwards across rows (axis 0)\n",
    "a_reshaped.sum(axis=0)"
   ]
  },
  {
   "cell_type": "code",
   "execution_count": 14,
   "metadata": {},
   "outputs": [
    {
     "name": "stdout",
     "output_type": "stream",
     "text": [
      "[ 3  7 11]\n",
      "21\n"
     ]
    }
   ],
   "source": [
    "print(a_reshaped.sum(axis=1))  # sum across columns\n",
    "print(a_reshaped.sum())  # sum entire array"
   ]
  },
  {
   "cell_type": "code",
   "execution_count": 15,
   "metadata": {},
   "outputs": [
    {
     "data": {
      "text/plain": [
       "array([2, 4, 6])"
      ]
     },
     "execution_count": 15,
     "metadata": {},
     "output_type": "execute_result"
    }
   ],
   "source": [
    "# Get the minimum horizontally across columns (axis 1)\n",
    "a_reshaped.max(axis=1)"
   ]
  },
  {
   "cell_type": "code",
   "execution_count": 16,
   "metadata": {},
   "outputs": [
    {
     "data": {
      "text/plain": [
       "array([[False,  True],\n",
       "       [ True,  True],\n",
       "       [ True,  True]])"
      ]
     },
     "execution_count": 16,
     "metadata": {},
     "output_type": "execute_result"
    }
   ],
   "source": [
    "# Boolean operations\n",
    "a_reshaped > 1"
   ]
  },
  {
   "cell_type": "code",
   "execution_count": 22,
   "metadata": {},
   "outputs": [
    {
     "name": "stdout",
     "output_type": "stream",
     "text": [
      "[ 1.3154697   0.02241344  0.97221131  0.57315349 -1.30022562 -0.02177485\n",
      "  0.00327059 -2.22128829  0.28494407  0.19229305]\n"
     ]
    }
   ],
   "source": [
    "# Has many capabilities; for example, the code below creates a random linear system and solves it\n",
    "\n",
    "# Standard Gaussian distributed 10-by-10 matrix (A) and 10-element vector (b)\n",
    "A = np.random.randn(10, 10)\n",
    "b = np.random.randn(10)\n",
    "\n",
    "# Solve A*x == b\n",
    "x = np.linalg.solve(A, b)\n",
    "\n",
    "print(x)"
   ]
  },
  {
   "cell_type": "code",
   "execution_count": 27,
   "metadata": {},
   "outputs": [
    {
     "data": {
      "text/plain": [
       "array([-2.22044605e-16,  6.66133815e-16, -1.11022302e-16, -5.55111512e-16,\n",
       "       -9.15933995e-16,  0.00000000e+00, -1.27675648e-15, -3.33066907e-16,\n",
       "        5.75928194e-16, -8.88178420e-16])"
      ]
     },
     "execution_count": 27,
     "metadata": {},
     "output_type": "execute_result"
    }
   ],
   "source": [
    "# Verify that x is an (approximate) solution. Note @ operator for matrix multiplication; np.dot works too.\n",
    "A@x - b"
   ]
  },
  {
   "cell_type": "markdown",
   "metadata": {
    "slideshow": {
     "slide_type": "subslide"
    }
   },
   "source": [
    "For more examples, work through the [NumPy quickstart](https://docs.scipy.org/doc/numpy/user/quickstart.html)"
   ]
  }
 ],
 "metadata": {
  "celltoolbar": "Slideshow",
  "kernelspec": {
   "display_name": "Python 3",
   "language": "python",
   "name": "python3"
  },
  "language_info": {
   "codemirror_mode": {
    "name": "ipython",
    "version": 3
   },
   "file_extension": ".py",
   "mimetype": "text/x-python",
   "name": "python",
   "nbconvert_exporter": "python",
   "pygments_lexer": "ipython3",
   "version": "3.6.9"
  }
 },
 "nbformat": 4,
 "nbformat_minor": 2
}
