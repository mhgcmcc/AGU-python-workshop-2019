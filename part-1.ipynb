{
 "cells": [
  {
   "cell_type": "markdown",
   "metadata": {
    "slideshow": {
     "slide_type": "slide"
    }
   },
   "source": [
    "# Getting Started with Python for Earth Sciences: Jupyter Notebooks, NumPy, pandas, and Matplotlib\n",
    "## Eviatar Bach\n",
    "PhD student, Department of Atmospheric and Oceanic Science, University of Maryland, College Park\n",
    "\n",
    "[My website](http://eviatarbach.com/) | [My email](mailto:eviatarbach@protonmail.com) | [My Twitter](https://twitter.com/eviatarbach) | [My GitHub](https://github.com/eviatarbach/)\n",
    "\n",
    "Based on previous courses prepared by **[Rebekah Esmaili](http://www.rebekahesmaili.com/)** (mostly Rebekah), [Kriti Bhargava](https://cisess.umd.edu/meet-our-scientists/kriti-bhargava/), and Eviatar Bach."
   ]
  },
  {
   "cell_type": "markdown",
   "metadata": {},
   "source": [
    "# About me\n",
    "\n",
    "PhD student with interests in climate dynamics, predictability, and data assimilation. Not satellites! But almost all my work has involved Python in some way. Feel free to email me with questions!"
   ]
  },
  {
   "cell_type": "markdown",
   "metadata": {
    "slideshow": {
     "slide_type": "slide"
    }
   },
   "source": [
    "# Introduction\n",
    "\n",
    "![](figures/xkcd-python.png)\n",
    "\n",
    "---\n",
    "\n",
    "## Why Python?\n",
    "\n",
    "Pros:\n",
    "\n",
    "* General-purpose, cross-platform\n",
    "* Free and open source\n",
    "* Reasonably easy to learn\n",
    "* Expressive and succinct code, forces good style\n",
    "* Being interpreted and dynamically typed makes it great for data analysis\n",
    "* Robust ecosystem of scientific libraries, including powerful statistical and visualization packages\n",
    "* Large community of scientific users and large existing codebases\n",
    "* Major investment into Python ecosystem by Earth science research agencies, including NASA, NCAR, UK Met Office, and Lamont-Doherty Earth Observatory. See [Pangeo](https://pangeo.io/collaborators.html).\n",
    "* Reads Earth science data formats like HDF, NetCDF, GRIB\n",
    "\n",
    "Cons:\n",
    "\n",
    "* Performance penalties for interpreted languages, although many libraries are wrappers for compiled languages. Avoid large loops in favor of matrix/vector operations when possible.\n",
    "* Multithreading is limited due to the Global Interpreter Lock, but other parallelism is available\n",
    "* See [Julia](https://julialang.org/) for a modern scientific language which is trying to overcome these challenges\n",
    "\n",
    "---\n",
    "\n",
    "## Objective: working with Earth science datasets\n",
    "\n",
    "* You won't learn how to code in Python\n",
    "* You will learn to:\n",
    "\t* Read/write ASCII and NetCDF data\n",
    "\t* Basic plotting and visualization\n",
    "\t* Perform basic operations on data\n",
    "    \n",
    "---\n",
    "\n",
    "Python is an interpreted language, so you will need as a minimum to have Python on your computer.\n",
    "\n",
    "## What is Anaconda?\n",
    "\n",
    "* Conda is a package manager\n",
    "* Anaconda comes with conda, as well as Python, a lot of useful scientific/mathematical packages, and development environments.\n",
    "* Easiest place to start if you're new\n",
    "\n",
    "## Development environments\n",
    "\n",
    "* Spyder: most Matlab-like\n",
    "* Jupyter notebooks: web based, runs code inline. Can also be run remotely over SSH; see [here](https://fizzylogic.nl/2017/11/06/edit-jupyter-notebooks-over-ssh/).\n",
    "* Text editor + run with command line for scripting ([IPython interpreter](https://ipython.org/) highly recommended)\n",
    "\n",
    "---\n",
    "## Launching Jupyter Notebook\n",
    "\n",
    "### Linux/Mac\n",
    "\n",
    "* Open terminal, **cd to the directory where you have your notebooks and data**, and type:\n",
    "```\n",
    "jupyter notebook    \n",
    "```\n",
    "\n",
    "### Windows\n",
    "\n",
    "* Start &rarr; Anaconda3 &rarr; Jupyter Notebook\n",
    "\n",
    "\n",
    "## Jupyter Home Screen\n",
    "\n",
    "* This will launch your default web browser with a local webserver that displays the contents of the directory that you're working in.\n",
    "\n",
    "* Note: in all the examples, the path assumed that Jupyter is launched from the notebook directory. You will need to change the path to point to your data if this is different.\n",
    "\n",
    "* Click on New on the top right.\n",
    "\n",
    "![](figures/jn-screenshot.png)"
   ]
  },
  {
   "cell_type": "markdown",
   "metadata": {},
   "source": [
    "<div class=\"alert alert-block alert-info\">\n",
    "\n",
    "<b> Exercise 1: Set up your environment and create a notebook </b>\n",
    "\n",
    "* For your operating system, launch Jupyter Notebooks\n",
    "* Create a new notebook\n",
    "* Change the name from \"untitled\" to something better\n",
    "* Save in the __same directory as the data folder__ that we provided (or move the data directory to the same place at the file because we'll need it later!).\n",
    "\n",
    "</div>"
   ]
  },
  {
   "cell_type": "markdown",
   "metadata": {},
   "source": [
    "## Basic Python commands\n"
   ]
  },
  {
   "cell_type": "code",
   "execution_count": null,
   "metadata": {},
   "outputs": [],
   "source": [
    "# This is how we comment and below is how we print\n",
    "print(\"Hello, world!\")"
   ]
  },
  {
   "cell_type": "code",
   "execution_count": null,
   "metadata": {},
   "outputs": [],
   "source": [
    "# for loop\n",
    "for i in range(5):\n",
    "    print(i)"
   ]
  },
  {
   "cell_type": "code",
   "execution_count": null,
   "metadata": {},
   "outputs": [],
   "source": [
    "# iterating over list elements\n",
    "print(\"List of hurricanes in 2019:\")\n",
    "\n",
    "# hurricanes is a list (in computer science terminology, a linked list)\n",
    "hurricanes = [\"Barry\", \"Dorian\", \"Humberto\", \"Jerry\", \"Lorenzo\", \"Pablo\"]\n",
    "\n",
    "for idx, name in enumerate(hurricanes): # notice the colon at the end\n",
    "    print(idx + 1, name) # because index starts from zero in python"
   ]
  },
  {
   "cell_type": "code",
   "execution_count": null,
   "metadata": {},
   "outputs": [],
   "source": [
    "a = [1, 2, 3, 4, 5, 6]\n",
    "b = a*2"
   ]
  },
  {
   "cell_type": "code",
   "execution_count": null,
   "metadata": {},
   "outputs": [],
   "source": [
    "# Is this what you expected to happen?\n",
    "b"
   ]
  },
  {
   "cell_type": "markdown",
   "metadata": {},
   "source": [
    "* Python's default list structure is for any type, not designed specifically for numeric operations\n",
    "* Need to use an additional package to do vector/matrix operations"
   ]
  },
  {
   "cell_type": "markdown",
   "metadata": {},
   "source": [
    "## Importing packages\n",
    "Packages give us additional functionality, saving us the trouble of writing procedures ourselves. There are ~6000 packages in the [conda-forge repository](https://anaconda.org/conda-forge/repo) alone!\n",
    "\n",
    "We'll now import **NumPy**. NumPy provides high-performance multidimensional arrays and linear algebra operations (similar to Matlab). It is a fundamental package for scientific computing with Python."
   ]
  },
  {
   "cell_type": "code",
   "execution_count": null,
   "metadata": {},
   "outputs": [],
   "source": [
    "# Importing NumPy\n",
    "import numpy as np # np becomes the alias for numpy"
   ]
  },
  {
   "cell_type": "code",
   "execution_count": null,
   "metadata": {},
   "outputs": [],
   "source": [
    "# NumPy arrays\n",
    "a = np.array(a) # a is now a NumPy array\n",
    "b = a*2\n",
    "\n",
    "print(b)"
   ]
  },
  {
   "cell_type": "code",
   "execution_count": null,
   "metadata": {},
   "outputs": [],
   "source": [
    "# Reshaping arrays\n",
    "a_reshaped = a.reshape(3, 2)\n",
    "print(a_reshaped)"
   ]
  },
  {
   "cell_type": "code",
   "execution_count": null,
   "metadata": {},
   "outputs": [],
   "source": [
    "# Indexing\n",
    "print(a_reshaped[0, :])  # First row\n",
    "print(a_reshaped[:, 0])  # First column\n",
    "print(a_reshaped[2, 1])  # Third row, second column\n",
    "print(a_reshaped[1:3, :])  # Second and third rows"
   ]
  },
  {
   "cell_type": "code",
   "execution_count": null,
   "metadata": {},
   "outputs": [],
   "source": [
    "# Sum vertically downwards across rows (axis 0)\n",
    "a_reshaped.sum(axis=0)"
   ]
  },
  {
   "cell_type": "code",
   "execution_count": null,
   "metadata": {},
   "outputs": [],
   "source": [
    "print(a_reshaped.sum(axis=1))  # sum across columns\n",
    "print(a_reshaped.sum())  # sum entire array"
   ]
  },
  {
   "cell_type": "code",
   "execution_count": null,
   "metadata": {},
   "outputs": [],
   "source": [
    "# Get the minimum horizontally across columns (axis 1)\n",
    "a_reshaped.max(axis=1)"
   ]
  },
  {
   "cell_type": "code",
   "execution_count": null,
   "metadata": {},
   "outputs": [],
   "source": [
    "# Boolean operations\n",
    "a_reshaped > 1"
   ]
  },
  {
   "cell_type": "code",
   "execution_count": null,
   "metadata": {},
   "outputs": [],
   "source": [
    "# Has many capabilities; for example, the code below creates a random linear system and solves it\n",
    "\n",
    "# Standard Gaussian distributed 10-by-10 matrix (A) and 10-element vector (b)\n",
    "A = np.random.randn(10, 10)\n",
    "b = np.random.randn(10)\n",
    "\n",
    "# Solve A*x == b\n",
    "x = np.linalg.solve(A, b)\n",
    "\n",
    "print(x)"
   ]
  },
  {
   "cell_type": "code",
   "execution_count": null,
   "metadata": {},
   "outputs": [],
   "source": [
    "# Verify that x is an (approximate) solution. Note @ operator for matrix multiplication; np.dot works too.\n",
    "A@x - b"
   ]
  },
  {
   "cell_type": "markdown",
   "metadata": {},
   "source": [
    "For more examples, work through the [NumPy quickstart](https://docs.scipy.org/doc/numpy/user/quickstart.html)"
   ]
  },
  {
   "cell_type": "markdown",
   "metadata": {
    "slideshow": {
     "slide_type": "slide"
    }
   },
   "source": [
    "### Pandas\n",
    "* A library to work with tabular data\n",
    "* Comparable to data frames in R\n",
    "\n",
    "Pros:\n",
    "\n",
    "* You can name columns and refence by labels instead of numeric indices like in NumPy arrays\n",
    "* This also makes performing group operations easier and more readable\n",
    "\n",
    "Cons:\n",
    "\n",
    "* Designed for tabular data, not for dimensions > 2. We will cover xarray for N-dimensional data later.\n",
    "\n",
    "---\n",
    "\n",
    "### Looking at real in-situ data: AERONET\n",
    "* Aerosols are particles suspended in the atmosphere, including dust, sea salt, volcanic ash, smoke, and pollution.\n",
    "* Aerosol Optical Depth (AOD) is a unitless measure of the amount of aerosols in the atmosphere.\n",
    "* AERONET (AErosol RObotic NETwork) stations provide in-situ AOD observations."
   ]
  },
  {
   "cell_type": "code",
   "execution_count": null,
   "metadata": {
    "slideshow": {
     "slide_type": "subslide"
    }
   },
   "outputs": [],
   "source": [
    "import pandas as pd"
   ]
  },
  {
   "cell_type": "code",
   "execution_count": null,
   "metadata": {
    "slideshow": {
     "slide_type": "subslide"
    }
   },
   "outputs": [],
   "source": [
    "filename = 'data/aeronet_locations_v3.txt'\n",
    "station_list = pd.read_csv(filename, skiprows=1)"
   ]
  },
  {
   "cell_type": "markdown",
   "metadata": {},
   "source": [
    "**Note: If you are getting errors!** \n",
    "\n",
    "Check the path in the home tab in your browser, it must be relative to the where Jupyter was initially launched."
   ]
  },
  {
   "cell_type": "code",
   "execution_count": null,
   "metadata": {
    "slideshow": {
     "slide_type": "subslide"
    }
   },
   "outputs": [],
   "source": [
    "# Show column names - kind of ugly\n",
    "station_list.columns"
   ]
  },
  {
   "cell_type": "code",
   "execution_count": null,
   "metadata": {
    "slideshow": {
     "slide_type": "subslide"
    }
   },
   "outputs": [],
   "source": [
    "# Shorter column names\n",
    "station_list.columns = ['site', 'lon', 'lat', 'elev']\n",
    "\n",
    "# List the first few rows\n",
    "station_list[0:5]"
   ]
  },
  {
   "cell_type": "markdown",
   "metadata": {
    "slideshow": {
     "slide_type": "slide"
    }
   },
   "source": [
    "<div class=\"alert alert-block alert-info\">\n",
    "\n",
    "<b>Exercise 2: Import an ASCII file </b>\n",
    "\n",
    "* From the data folder, import \"20180801_20180831_PNNL_lev15.csv\" using the pandas read_csv command. Assign it to a variable.\n",
    "    * HINT: You might need to check out the file path with respect to your notebook location.\n",
    "* What are the column names?\n",
    "</div>"
   ]
  },
  {
   "cell_type": "markdown",
   "metadata": {
    "slideshow": {
     "slide_type": "slide"
    }
   },
   "source": [
    "### Basic plotting with Matplotlib\n",
    "\n",
    "Common (simple) tasks in Earth science...\n",
    "\n",
    "* Histograms\n",
    "* Time series\n",
    "* Taking averages, computing the bias"
   ]
  },
  {
   "cell_type": "code",
   "execution_count": null,
   "metadata": {
    "slideshow": {
     "slide_type": "subslide"
    }
   },
   "outputs": [],
   "source": [
    "# Matplotlib\n",
    "from matplotlib import pyplot as plt\n",
    "\n",
    "# Options to increase figure size\n",
    "plt.rcParams['figure.figsize'] = [12, 6]\n",
    "plt.rcParams.update({'font.size': 16})"
   ]
  },
  {
   "cell_type": "code",
   "execution_count": null,
   "metadata": {
    "slideshow": {
     "slide_type": "subslide"
    }
   },
   "outputs": [],
   "source": [
    "# Create a histogram with 50 bins\n",
    "plt.hist(station_list[\"lat\"], bins=50)\n",
    "plt.title(\"Aeronet Station Locations\")\n",
    "plt.ylabel(\"Frequency\")\n",
    "plt.xlabel(\"Latitude\")"
   ]
  },
  {
   "cell_type": "markdown",
   "metadata": {
    "slideshow": {
     "slide_type": "slide"
    }
   },
   "source": [
    "<div class=\"alert alert-block alert-info\">\n",
    "\n",
    "**Exercise 3**\n",
    "\n",
    "**Create a histogram**\n",
    "\n",
    "* Import the aeronet station list and locations from the file aeronet_locations_v3.txt using the pandas read_csv command.\n",
    "* Plot a histogram of the longitude distribution of stations using the plt.hist(???) command\n",
    "</div>"
   ]
  },
  {
   "cell_type": "markdown",
   "metadata": {
    "slideshow": {
     "slide_type": "slide"
    }
   },
   "source": [
    "#### Time series data\n",
    "\n",
    "Need to tell Python the date strings in the file are dates/times."
   ]
  },
  {
   "cell_type": "code",
   "execution_count": null,
   "metadata": {
    "slideshow": {
     "slide_type": "subslide"
    }
   },
   "outputs": [],
   "source": [
    "ground_station_PNNL = pd.read_csv('data/20180801_20180831_PNNL_lev15.csv')"
   ]
  },
  {
   "cell_type": "code",
   "execution_count": null,
   "metadata": {},
   "outputs": [],
   "source": [
    "# Examine the first few lines...\n",
    "ground_station_PNNL[0:2]"
   ]
  },
  {
   "cell_type": "code",
   "execution_count": null,
   "metadata": {
    "slideshow": {
     "slide_type": "subslide"
    }
   },
   "outputs": [],
   "source": [
    "# Convert the string dates and times to date format (note the line continuation)\n",
    "ground_station_PNNL['datetime'] = (ground_station_PNNL['Date(dd:mm:yyyy)'] + ' '\n",
    "                                   + ground_station_PNNL['Time(hh:mm:ss)'])\n",
    "\n",
    "# Explicitly declare the format (for the full list, see http://strftime.org)\n",
    "fmt = '%d:%m:%Y %H:%M:%S'\n",
    "ground_station_PNNL['datetime'] = pd.to_datetime(ground_station_PNNL['datetime'], format=fmt)"
   ]
  },
  {
   "cell_type": "markdown",
   "metadata": {
    "slideshow": {
     "slide_type": "slide"
    }
   },
   "source": [
    "#### Plotting a single variable\n",
    "\n",
    "* Add the data using plt.plot(dataframe['X Column Name'], dataframe['Y Column Name'])"
   ]
  },
  {
   "cell_type": "code",
   "execution_count": null,
   "metadata": {},
   "outputs": [],
   "source": [
    "plt.plot(ground_station_PNNL['datetime'], ground_station_PNNL['AOD_870nm'])\n",
    "plt.xticks(rotation=35)\n",
    "plt.title('870nm')"
   ]
  },
  {
   "cell_type": "markdown",
   "metadata": {
    "slideshow": {
     "slide_type": "slide"
    }
   },
   "source": [
    "#### Plotting two side-by-side plots\n",
    "\n",
    "* Before writing your plt.plot code, add:\n",
    "plt.subplot(__row number__, __column number__, __position of the plot__)\n",
    "\n",
    "* Call plt.plot() and fill in the x and y variables for the first line/data series on the plot\n",
    "* Call plt.subplot again, increment the position of plot number\n",
    "* Add in any aesthetics, such as rotating the axes, labels, and adding a legend\n",
    "* Show the plot using plt.show()\n",
    "\n",
    "Example: \n",
    "* plt.subplot(2, 1, 1) places the plot in the first position of a two row, one column stack of plots.\n",
    "* plt.subplot(1, 2, 2) places the plot in the second position of a two column, one row of plots next to each other."
   ]
  },
  {
   "cell_type": "code",
   "execution_count": null,
   "metadata": {
    "slideshow": {
     "slide_type": "subslide"
    }
   },
   "outputs": [],
   "source": [
    "# Call subplot - in column one, write the AOD_870nm plot\n",
    "plt.subplot(1, 2, 1)\n",
    "\n",
    "plt.plot(ground_station_PNNL['datetime'], ground_station_PNNL['AOD_870nm'])\n",
    "plt.xticks(rotation=35)\n",
    "plt.title('870nm')\n",
    "\n",
    "# Call subplot - in column two, write the AOD_1020nm plot\n",
    "plt.subplot(1, 2, 2)\n",
    "plt.plot(ground_station_PNNL['datetime'], ground_station_PNNL['AOD_1020nm'])\n",
    "plt.xticks(rotation=35)\n",
    "plt.title('1020nm')\n",
    "\n",
    "plt.show()"
   ]
  },
  {
   "cell_type": "markdown",
   "metadata": {
    "slideshow": {
     "slide_type": "slide"
    }
   },
   "source": [
    "#### Adding data to an existing plot\n",
    "\n",
    "* Call plt.plot() and fill in the x and y variables for EACH line/data series on the plot\n",
    "* Add in any aesthetics, such as rotating the axes, labels, and adding a legend\n",
    "* Show the plot using plt.show()\n",
    "\n",
    "Note: If you want to change from a line to a point, you can add a '.' argument to plot.plot() or use plt.scatter() instead."
   ]
  },
  {
   "cell_type": "code",
   "execution_count": null,
   "metadata": {},
   "outputs": [],
   "source": [
    "plt.plot(ground_station_PNNL['datetime'], ground_station_PNNL['AOD_870nm'])\n",
    "plt.plot(ground_station_PNNL['datetime'], ground_station_PNNL['AOD_1020nm'])\n",
    "plt.xticks(rotation=35)\n",
    "plt.legend(['870nm', '1020nm'])\n",
    "plt.show()"
   ]
  },
  {
   "cell_type": "markdown",
   "metadata": {
    "slideshow": {
     "slide_type": "slide"
    }
   },
   "source": [
    "#### Filtering data\n",
    "Sometimes there are values we don't want in our plots, e.g. missing data values of -999.0"
   ]
  },
  {
   "cell_type": "code",
   "execution_count": null,
   "metadata": {
    "slideshow": {
     "slide_type": "subslide"
    }
   },
   "outputs": [],
   "source": [
    "# The following plot is not very useful because the missing values are being added\n",
    "plt.plot(ground_station_PNNL['datetime'], ground_station_PNNL['AOD_1640nm'])\n",
    "plt.xticks(rotation=35)\n",
    "plt.legend()\n",
    "plt.show()"
   ]
  },
  {
   "cell_type": "code",
   "execution_count": null,
   "metadata": {
    "slideshow": {
     "slide_type": "subslide"
    }
   },
   "outputs": [],
   "source": [
    "# Filter out missing values by only using ground_station_PNNL['AOD_1640nm'] >= 0\n",
    "valid_mask = ground_station_PNNL['AOD_1640nm'] >= 0\n",
    "\n",
    "# Then plot the filtered values...\n",
    "plt.plot(ground_station_PNNL[valid_mask]['datetime'], ground_station_PNNL[valid_mask]['AOD_1640nm'])\n",
    "\n",
    "# Option: Add in the other AOD lines\n",
    "plt.plot(ground_station_PNNL['datetime'], ground_station_PNNL['AOD_870nm'])\n",
    "plt.plot(ground_station_PNNL['datetime'], ground_station_PNNL['AOD_1020nm'])\n",
    "\n",
    "plt.legend()\n",
    "plt.xticks(rotation=35)\n",
    "\n",
    "plt.show()"
   ]
  },
  {
   "cell_type": "markdown",
   "metadata": {
    "slideshow": {
     "slide_type": "slide"
    }
   },
   "source": [
    "### Saving images\n",
    "\n",
    "* plt.savefig('pick_a_filename')\n",
    "* Save as a vector format, such as PDF, SVG, or EPS, when possible. These files have \"infinite resolution\". See the [AGU guide](https://publications.agu.org/author-resource-center/graphics/), for example."
   ]
  },
  {
   "cell_type": "code",
   "execution_count": null,
   "metadata": {
    "slideshow": {
     "slide_type": "subslide"
    }
   },
   "outputs": [],
   "source": [
    "plt.hist(station_list[\"lat\"], bins=100)\n",
    "plt.title(\"Aeronet Station Locations\")\n",
    "plt.ylabel(\"Frequency\")\n",
    "plt.xlabel(\"Latitude\")\n",
    "\n",
    "plt.savefig(\"histogram.pdf\")"
   ]
  },
  {
   "cell_type": "markdown",
   "metadata": {
    "slideshow": {
     "slide_type": "slide"
    }
   },
   "source": [
    "## Resources\n",
    "\n",
    "* Some (free!) ways to learn: \n",
    "    * [CS Dojo](https://www.youtube.com/watch?v=Z1Yd7upQsXY&list=PLBZBJbE_rGRWeh5mIBhD-hhDwSEDxogDg) Youtube series for absolute beginners\n",
    "    * [Automate boring stuff](https://automatetheboringstuff.com)\n",
    "    * [Codeacademy](https://www.codecademy.com/learn/learn-python)\n",
    "    * [Local Meetups](https://www.meetup.com/find/tech/)\n",
    "    * Start a Python Club!"
   ]
  }
 ],
 "metadata": {
  "@webio": {
   "lastCommId": null,
   "lastKernelId": null
  },
  "celltoolbar": "Slideshow",
  "kernelspec": {
   "display_name": "Python 3",
   "language": "python",
   "name": "python3"
  },
  "language_info": {
   "codemirror_mode": {
    "name": "ipython",
    "version": 3
   },
   "file_extension": ".py",
   "mimetype": "text/x-python",
   "name": "python",
   "nbconvert_exporter": "python",
   "pygments_lexer": "ipython3",
   "version": "3.6.9"
  }
 },
 "nbformat": 4,
 "nbformat_minor": 2
}
