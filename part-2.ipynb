{
 "cells": [
  {
   "cell_type": "markdown",
   "metadata": {},
   "source": [
    "# Using Python with Earth Science Datasets: Cartopy, xarray, and pyresample"
   ]
  },
  {
   "cell_type": "markdown",
   "metadata": {
    "slideshow": {
     "slide_type": "slide"
    }
   },
   "source": [
    "## Objective: working with Earth science datasets\n",
    "\n",
    "* You will learn to:\n",
    "\t* Plot data on a map\n",
    "\t* Read netCDF datasets\n",
    "\t* Perform re-gridding, averaging, filtering, and out-of-memory operations\n",
    "    \n",
    "---\n",
    "\n",
    "# Recap on packages\n",
    "Packages give us additional functionality, saving us the trouble of writing procedures ourselves. \n",
    "\n",
    "Primary libraries from the last part...\n",
    "* [NumPy](http://www.numpy.org/): Fast mathematical operations on arrays\n",
    "* [Pandas](https://pandas.pydata.org): Operations and easy read/write of tabular data. Builds extra functionality on top of NumPy.\n",
    "* [Matplotlib](https://matplotlib.org): Primary Python plotting/visualization package. You can generate line plots, histograms, scatter plots, etc., with just a few lines of code."
   ]
  },
  {
   "cell_type": "code",
   "execution_count": null,
   "metadata": {
    "slideshow": {
     "slide_type": "subslide"
    }
   },
   "outputs": [],
   "source": [
    "import pandas as pd\n",
    "import numpy as np\n",
    "import matplotlib.pyplot as plt"
   ]
  },
  {
   "cell_type": "code",
   "execution_count": null,
   "metadata": {
    "slideshow": {
     "slide_type": "subslide"
    }
   },
   "outputs": [],
   "source": [
    "# Bring back our list of aeronet stations...\n",
    "filename = 'data/aeronet_locations_v3.txt'\n",
    "station_list = pd.read_csv(filename, skiprows=1)\n",
    "station_list.columns = ['site', 'lon', 'lat', 'elev']"
   ]
  },
  {
   "cell_type": "markdown",
   "metadata": {
    "slideshow": {
     "slide_type": "slide"
    }
   },
   "source": [
    "## [Cartopy](https://scitools.org.uk/cartopy/)\n",
    "* Cartopy is not included in Anaconda, need to install yourself.\n",
    "\n",
    "Open the terminal (Mac/Linux) or Anaconda Prompt (Windows) and type:\n",
    "```python\n",
    "conda install -c conda-forge cartopy\n",
    "```\n",
    "* Rather than import all of Cartopy, we just want the projection classes to pair with matplotlib.\n",
    "* More [map projections](https://scitools.org.uk/cartopy/docs/latest/crs/projections.html)."
   ]
  },
  {
   "cell_type": "code",
   "execution_count": null,
   "metadata": {
    "slideshow": {
     "slide_type": "subslide"
    }
   },
   "outputs": [],
   "source": [
    "# Options to increase figure size\n",
    "plt.rcParams['figure.figsize'] = [12, 6]\n",
    "plt.rcParams.update({'font.size': 16})\n",
    "\n",
    "from cartopy import crs as ccrs"
   ]
  },
  {
   "cell_type": "code",
   "execution_count": null,
   "metadata": {
    "slideshow": {
     "slide_type": "subslide"
    }
   },
   "outputs": [],
   "source": [
    "from_proj = ccrs.PlateCarree()\n",
    "to_proj = ccrs.PlateCarree()\n",
    "\n",
    "# Center on the Atlantic\n",
    "ax = plt.axes(projection=to_proj)\n",
    "ax.coastlines()\n",
    "plt.scatter(station_list['lon'], station_list['lat'], color='blue', s=1, transform=from_proj)\n",
    "plt.show()"
   ]
  },
  {
   "cell_type": "markdown",
   "metadata": {
    "slideshow": {
     "slide_type": "slide"
    }
   },
   "source": [
    "<div class=\"alert alert-block alert-info\">\n",
    "\n",
    "**Exercise 1**\n",
    "\n",
    "* Import aeronet_locations_v3.txt with read_csv\n",
    "* Define the map axes using with option projection=ccrs.PlateCarree()\n",
    "* Add coastlines\n",
    "* Make a scatter plot of the station locations\n",
    "\n",
    "* Challenge: Change the projection to Equal Earth and shift the plot to center on -180 using ccrs.EqualEarth(central_longitude=-180)\n",
    "</div>"
   ]
  },
  {
   "cell_type": "code",
   "execution_count": null,
   "metadata": {
    "slideshow": {
     "slide_type": "subslide"
    }
   },
   "outputs": [],
   "source": [
    "# Solution: Center on the Pacific\n",
    "from_proj = ccrs.PlateCarree()\n",
    "to_proj = ccrs.EqualEarth(central_longitude=-180)\n",
    "\n",
    "ax = plt.axes(projection=to_proj)\n",
    "ax.coastlines()\n",
    "plt.scatter(station_list['lon'], station_list['lat'], color='red', s=1, transform=from_proj)\n",
    "plt.show()"
   ]
  },
  {
   "cell_type": "markdown",
   "metadata": {},
   "source": [
    "## Examining the 2018 California Wildfires from Space\n",
    "\n",
    "* 6,870 fires had burned over a 6,000 km${^2}$ area. \n",
    "* The smoke from the wildfires also had an impact on air quality both in proximity of the fires as well as across the country.\n",
    "* We'll look at satellite observations from __Suomi-NPP__ and __GOES-17__ to show the impact of the California wildfires on AOD.\n",
    "\n",
    "![](figures/satellites.png)"
   ]
  },
  {
   "cell_type": "markdown",
   "metadata": {},
   "source": [
    "We're in the golden age of sallite datasets, which is a blessing and a curse:\n",
    "\n",
    "* Inundated with datasets, don't know which ones to use\n",
    "* No single repository for access of the data\n",
    "* Inconsistent formatting and filetypes\n",
    "\n",
    "netCDF4 and HDF5 are the dominant formats used in satellite remote sensing (but others do exist)"
   ]
  },
  {
   "cell_type": "markdown",
   "metadata": {
    "slideshow": {
     "slide_type": "slide"
    }
   },
   "source": [
    "## [xarray](https://xarray.pydata.org/en/stable/)\n",
    "\n",
    "* xarray is like pandas, but for N-dimensional arrays.\n",
    "* Can read and write NetCDF, HDF5, and GRIB (with the additional cfgrib package) files.\n",
    "* Can perform efficient operations on these datasets, including out-of-memory and parallel operations."
   ]
  },
  {
   "cell_type": "markdown",
   "metadata": {
    "slideshow": {
     "slide_type": "slide"
    }
   },
   "source": [
    "### LEO Example: Suomi-NPP\n",
    "LEO Satellites orbit the Earth many times a day, data are organized in 1 minute swaths per file. We'll be looking at aerosol optical depth data over California."
   ]
  },
  {
   "cell_type": "code",
   "execution_count": null,
   "metadata": {
    "slideshow": {
     "slide_type": "subslide"
    }
   },
   "outputs": [],
   "source": [
    "import xarray"
   ]
  },
  {
   "cell_type": "code",
   "execution_count": null,
   "metadata": {
    "slideshow": {
     "slide_type": "subslide"
    }
   },
   "outputs": [],
   "source": [
    "# Import your data...\n",
    "filename = 'data/JRR-AOD_v1r2_npp_s201811082130296_e201811082131537_c201811082228260.nc'\n",
    "npp = xarray.open_dataset(filename)\n",
    "\n",
    "# Print a list of variables\n",
    "list(npp.variables)"
   ]
  },
  {
   "cell_type": "code",
   "execution_count": null,
   "metadata": {
    "slideshow": {
     "slide_type": "subslide"
    }
   },
   "outputs": [],
   "source": [
    "AOD_NPP = npp['AOD550']\n",
    "lat_NPP = npp['Latitude']\n",
    "lon_NPP = npp['Longitude']"
   ]
  },
  {
   "cell_type": "code",
   "execution_count": null,
   "metadata": {},
   "outputs": [],
   "source": [
    "# xarray has automatically read in the missing values as nan\n",
    "AOD_NPP"
   ]
  },
  {
   "cell_type": "code",
   "execution_count": null,
   "metadata": {},
   "outputs": [],
   "source": [
    "AOD_NPP.mean()"
   ]
  },
  {
   "cell_type": "code",
   "execution_count": null,
   "metadata": {},
   "outputs": [],
   "source": [
    "plt.pcolormesh(lon_NPP, lat_NPP, AOD_NPP)\n",
    "plt.colorbar()\n",
    "plt.show()"
   ]
  },
  {
   "cell_type": "markdown",
   "metadata": {},
   "source": [
    "In the next plot, we'll\n",
    "* Add in the cartopy map\n",
    "* Change the color scheme\n",
    "    * See the [matplotlib color schemes](https://matplotlib.org/examples/color/colormaps_reference.html) and [ColorBrewer schemes](http://colorbrewer2.org).\n",
    "    * Recommend [cmocean](https://matplotlib.org/cmocean/), a collection of colormaps for oceanography but great for other purposes too.\n",
    "* There is an option to zoom in on the data using plt.xlim and plt.ylim"
   ]
  },
  {
   "cell_type": "code",
   "execution_count": null,
   "metadata": {
    "slideshow": {
     "slide_type": "subslide"
    }
   },
   "outputs": [],
   "source": [
    "from_proj = ccrs.PlateCarree()\n",
    "to_proj = ccrs.PlateCarree()\n",
    "\n",
    "levs = np.arange(0, 4, 0.1)\n",
    "\n",
    "# Using cartopy, create the map projection and plot the data\n",
    "ax = plt.axes(projection=to_proj)\n",
    "ax.coastlines()\n",
    "\n",
    "# Can change color scheme using the cmap argument\n",
    "plt.contourf(lon_NPP, lat_NPP, AOD_NPP, levs, transform=from_proj, extend='max',\n",
    "             cmap=\"PuBu\")\n",
    "\n",
    "plt.colorbar(orientation=\"horizontal\", fraction=0.07)\n",
    "\n",
    "plt.xlim(-145, -110)\n",
    "plt.ylim(30, 50)\n",
    "\n",
    "# To zoom in on data:\n",
    "#plt.xlim(-125, -120)\n",
    "#plt.ylim(38, 44)\n",
    "plt.show()"
   ]
  },
  {
   "cell_type": "markdown",
   "metadata": {
    "slideshow": {
     "slide_type": "slide"
    }
   },
   "source": [
    "<div class=\"alert alert-block alert-info\">\n",
    "\n",
    "**Exercise 2** \n",
    "\n",
    "??? = Fill in the blanks!\n",
    "\n",
    "**Import from netCDF files**\n",
    "\n",
    "* Import JRR-AOD_v1r1_npp_s201808091957192_e201808091958434_c201808092051240.nc using the xarray.open_dataset command.\n",
    "* Inpect the available variables.\n",
    "* Save the latitude, longitude, and AOD to arrays.\n",
    "\n",
    "**Create a cartopy plot**\n",
    "\n",
    "* Define the axes, including the projection. \n",
    "    * Challenge: Make an orthographic plot using: ccrs.Orthographic(central_longitude=-75.0, central_latitude=0.0)\n",
    "* Create a plot using plt.contourf(???, ???, ???, transform=???)\n",
    "    * Challenge: Change the data scale from the default to 0.0-1.6\n",
    "* Remember to plt.show() at the end to display!\n",
    "\n",
    "</div>"
   ]
  },
  {
   "cell_type": "markdown",
   "metadata": {
    "slideshow": {
     "slide_type": "slide"
    }
   },
   "source": [
    "## Common tasks\n",
    "1. Regridding\n",
    "2. Masking datasets\n",
    "3. Filtering with Quality Flags"
   ]
  },
  {
   "cell_type": "markdown",
   "metadata": {
    "slideshow": {
     "slide_type": "slide"
    }
   },
   "source": [
    "### Regridding\n",
    "\n",
    "Regridding is the process of interpolating from one grid resolution to a different grid resolution and [UCAR's website has a good discussion](https://climatedataguide.ucar.edu/climate-data-tools-and-analysis/regridding-overview). \n",
    "\n",
    "There are a few options:\n",
    "\n",
    "* Interpolate using griddata from SciPy package (2D interpolate too slow/limited number of points)\n",
    "* Regridding in [iris](https://scitools.org.uk/iris/docs/latest/) package (autodetection of GRIB and NC fileformats... if they follow the conventions!)\n",
    "* [xESMF](https://xesmf.readthedocs.io/en/latest/), a Python package for regridding for gridded datasets (not designed for satellite data)\n",
    "* __Pyresample__: the syntax can be fairly complex, but very fast\n",
    "\n",
    "Pyresample also is not included in Anaconda, so install using:\n",
    "\n",
    "```\n",
    "conda install -c conda-forge pyresample\n",
    "\n",
    "```"
   ]
  },
  {
   "cell_type": "markdown",
   "metadata": {},
   "source": [
    "Steps:\n",
    "1. Define the new grid (either in Python or import an irregular array)\n",
    "2. Define the swath/satellite grid\n",
    "3. Resample to get the new values for the updated grid"
   ]
  },
  {
   "cell_type": "code",
   "execution_count": null,
   "metadata": {},
   "outputs": [],
   "source": [
    "from pyresample import geometry\n",
    "from pyresample.kd_tree import resample_nearest"
   ]
  },
  {
   "cell_type": "code",
   "execution_count": null,
   "metadata": {
    "slideshow": {
     "slide_type": "subslide"
    }
   },
   "outputs": [],
   "source": [
    "# Create a new grid at 0.1 degree resolution\n",
    "x = np.arange(lon_NPP.min(), lon_NPP.max(), 0.1)\n",
    "y = np.arange(lat_NPP.min(), lat_NPP.max(), 0.1)\n",
    "new_lon, new_lat = np.meshgrid(x,y)\n",
    "\n",
    "# define the new grid using \n",
    "new_lonlat = geometry.GridDefinition(lons=new_lon, lats=new_lat)"
   ]
  },
  {
   "cell_type": "code",
   "execution_count": null,
   "metadata": {},
   "outputs": [],
   "source": [
    "# Input list of swath points\n",
    "old_lonlat = geometry.SwathDefinition(lons=lon_NPP, lats=lat_NPP)\n",
    "\n",
    "# Resample the data\n",
    "new_AOD = resample_nearest(old_lonlat, AOD_NPP.values, new_lonlat, radius_of_influence=5000, fill_value=None)"
   ]
  },
  {
   "cell_type": "code",
   "execution_count": null,
   "metadata": {},
   "outputs": [],
   "source": [
    "# To compare: Putting two plots together using plt.subplot\n",
    "plt.subplot(1, 2, 1)\n",
    "plt.title(\"Before regridding\")\n",
    "plt.pcolormesh(lon_NPP, lat_NPP, AOD_NPP, vmin=0, vmax=1)\n",
    "\n",
    "plt.subplot(1, 2, 2)\n",
    "plt.pcolormesh(new_lon, new_lat, new_AOD, vmin=0, vmax=1)\n",
    "plt.title(\"After regridding\")\n",
    "plt.show()"
   ]
  },
  {
   "cell_type": "markdown",
   "metadata": {
    "slideshow": {
     "slide_type": "slide"
    }
   },
   "source": [
    "### Masking datasets\n",
    "\n",
    "May want to add a land/ocean mask to our datasets"
   ]
  },
  {
   "cell_type": "code",
   "execution_count": null,
   "metadata": {
    "slideshow": {
     "slide_type": "subslide"
    }
   },
   "outputs": [],
   "source": [
    "import cartopy.feature as feature"
   ]
  },
  {
   "cell_type": "code",
   "execution_count": null,
   "metadata": {
    "slideshow": {
     "slide_type": "subslide"
    }
   },
   "outputs": [],
   "source": [
    "from_proj = ccrs.PlateCarree()\n",
    "to_proj = ccrs.PlateCarree()\n",
    "\n",
    "ax = plt.axes(projection=to_proj)\n",
    "ax.coastlines()\n",
    "plot = ax.contourf(lon_NPP, lat_NPP, AOD_NPP, transform=from_proj)\n",
    "\n",
    "# Mask out the ocean: zorder places it on top of the existing data\n",
    "ax.add_feature(feature.OCEAN, zorder=100, edgecolor='black')\n",
    "\n",
    "cb = plt.colorbar(plot, orientation=\"horizontal\", fraction=0.07)\n",
    "plt.show()"
   ]
  },
  {
   "cell_type": "markdown",
   "metadata": {
    "slideshow": {
     "slide_type": "slide"
    }
   },
   "source": [
    "<div class=\"alert alert-block alert-info\">\n",
    "\n",
    "**Exercise 3**\n",
    "\n",
    "* Filter your plot in Exercise 2 (using NPP data) by data quality using the variable 'QCAll'\n",
    "* Import QCAll into a variable\n",
    "* Create a mask for medium/low quality data or pixels with no retrieval\n",
    "* Make a new map with the filtered data\n",
    "\n",
    "</div>"
   ]
  },
  {
   "cell_type": "code",
   "execution_count": null,
   "metadata": {},
   "outputs": [],
   "source": [
    "qc_flag = npp['QCAll']\n",
    "\n",
    "mask_HQ = (qc_flag != 0)\n",
    "AOD_NPP_HQ = np.ma.masked_where(mask_HQ, qc_flag)"
   ]
  },
  {
   "cell_type": "markdown",
   "metadata": {
    "slideshow": {
     "slide_type": "slide"
    }
   },
   "source": [
    "## Saving images\n",
    "\n",
    "* Create the plot, then use plt.savefig"
   ]
  },
  {
   "cell_type": "code",
   "execution_count": null,
   "metadata": {},
   "outputs": [],
   "source": [
    "from_proj = ccrs.PlateCarree()\n",
    "to_proj = ccrs.PlateCarree()\n",
    "\n",
    "levs = np.arange(0, 1.8, 0.1)\n",
    "\n",
    "ax = plt.axes(projection=to_proj)\n",
    "plt.contourf(lon_NPP, lat_NPP, AOD_NPP_HQ, levs, transform=from_proj)\n",
    "ax.coastlines()\n",
    "plt.colorbar(orientation=\"horizontal\", fraction=0.07)\n",
    "\n",
    "# Add DPI option to change resolution of the plot (maintains the same aspect ratio)\n",
    "plt.savefig('Wildfires_AOD_2018221_1612.png', dpi=500)\n",
    "\n",
    "# TIP: If you want to suppress the output (runs faster!), use the following:\n",
    "plt.close()"
   ]
  },
  {
   "cell_type": "markdown",
   "metadata": {},
   "source": [
    "## Out-of-memory processing\n",
    "\n",
    "* Some datasets are so big that it is not a good idea to load them all into memory.\n",
    "* xarray operations can be run on successive pieces of datasets so the entire data is never in memory. Operations will be run in parallel! [See more details.](https://xarray.pydata.org/en/stable/dask.html)\n",
    "* We'll use the MERRA-2 reanalysis of AOD."
   ]
  },
  {
   "cell_type": "code",
   "execution_count": null,
   "metadata": {},
   "outputs": [],
   "source": [
    "filename = 'data/MERRA2_400.inst3_2d_gas_Nx.20181109.nc4.nc'\n",
    "merra = xarray.open_dataset(filename, chunks={'time': 1})"
   ]
  },
  {
   "cell_type": "code",
   "execution_count": null,
   "metadata": {},
   "outputs": [],
   "source": [
    "merra['AODANA']"
   ]
  },
  {
   "cell_type": "code",
   "execution_count": null,
   "metadata": {},
   "outputs": [],
   "source": [
    "# Let's do a time-mean\n",
    "\n",
    "merra['AODANA'].mean(dim='time')"
   ]
  },
  {
   "cell_type": "markdown",
   "metadata": {},
   "source": [
    "The mean does not compute! xarray will avoid doing the computation with out-of-memory datasets until you tell it to."
   ]
  },
  {
   "cell_type": "code",
   "execution_count": null,
   "metadata": {},
   "outputs": [],
   "source": [
    "mean_AOD = merra['AODANA'].mean(dim='time').compute()\n",
    "mean_AOD"
   ]
  },
  {
   "cell_type": "code",
   "execution_count": null,
   "metadata": {},
   "outputs": [],
   "source": [
    "from_proj = ccrs.PlateCarree()\n",
    "to_proj = ccrs.EqualEarth()\n",
    "\n",
    "# Using cartopy, create the map projection and plot the data\n",
    "ax = plt.axes(projection=to_proj)\n",
    "ax.coastlines()\n",
    "\n",
    "# Can change color scheme using the cmap argument\n",
    "plt.pcolormesh(merra['lon'], merra['lat'], mean_AOD, transform=from_proj)\n",
    "plt.colorbar(label='AOD')\n",
    "\n",
    "plt.show()"
   ]
  },
  {
   "cell_type": "markdown",
   "metadata": {
    "slideshow": {
     "slide_type": "slide"
    }
   },
   "source": [
    "## Scripting\n",
    "\n",
    "* Notebooks are nice for sharing results with others, but scripts are useful for automating tasks.\n",
    "* You can export a script from Jupyter Notebook directly: File &rarr; Download As &rarr; Python (.py)\n",
    "* To make a script, write code into a [filename].py file with the following shebang:\n",
    "```python\n",
    "#!/usr/bin/env python\n",
    "```\n",
    "\n",
    "For example, let's make the file `hello_world.py`:\n",
    "\n",
    "```python\n",
    "#!/usr/bin/env python\n",
    "\n",
    "print(\"Hello world!\")\n",
    "```\n",
    "\n",
    "Then to call the script, open the terminal, check the file permissions, and simply type:\n",
    "```python\n",
    "python hello_world.py\n",
    "```\n",
    "Windows users: you'll need to run the scripts through the Anaconda Prompt and use the full path to the script using double backslashes (\\\\\\\\). You may need to associate \\*.py files with python (C:\\Users\\[your username]\\Anaconda3\\python) \n"
   ]
  },
  {
   "cell_type": "markdown",
   "metadata": {
    "slideshow": {
     "slide_type": "slide"
    }
   },
   "source": [
    "## Resources\n",
    "* [PyTroll](http://pytroll.github.io) framework for the processing of Earth observation satellite data\n",
    "* [Unidata AWIPS Python tutorial](http://unidata.github.io/awips2/python/satellite-imagery/)\n",
    "* [Workshop on developing Python frameworks for earth system sciences](https://www.ecmwf.int/en/learning/workshops/2018-workshop-developing-python-frameworks-earth-system-sciences)\n",
    "* [Python Satellite Data Analysis Toolkit (pysat)](https://github.com/rstoneback) Toolkit for space science data analysis."
   ]
  }
 ],
 "metadata": {
  "@webio": {
   "lastCommId": null,
   "lastKernelId": null
  },
  "celltoolbar": "Slideshow",
  "kernelspec": {
   "display_name": "Python 3",
   "language": "python",
   "name": "python3"
  },
  "language_info": {
   "codemirror_mode": {
    "name": "ipython",
    "version": 3
   },
   "file_extension": ".py",
   "mimetype": "text/x-python",
   "name": "python",
   "nbconvert_exporter": "python",
   "pygments_lexer": "ipython3",
   "version": "3.6.9"
  }
 },
 "nbformat": 4,
 "nbformat_minor": 2
}
