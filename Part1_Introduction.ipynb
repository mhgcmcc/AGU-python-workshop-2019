{
 "cells": [
  {
   "cell_type": "markdown",
   "metadata": {
    "slideshow": {
     "slide_type": "slide"
    }
   },
   "source": [
    "# <center> Getting Started with Python for Earth Sciences: Jupyter Notebooks and Numpy </center>\n",
    "## <center> Kriti Bhargava and Eviatar Bach </center>\n",
    "<center>Postdoctoral associate, UMD | kritib@umd.edu</center>\n",
    "<center>PhD student, UMD | eviatarbach@protonmail.com</center>\n"
   ]
  },
  {
   "cell_type": "markdown",
   "metadata": {
    "slideshow": {
     "slide_type": "slide"
    }
   },
   "source": [
    "# Introduction\n",
    "\n",
    "## Why Python?\n",
    "\n",
    "Pros\n",
    "\n",
    "* General-purpose, cross-platform\n",
    "* Free and open source\n",
    "* Reasonably easy to learn\n",
    "* Expressive and succinct code, forces good style\n",
    "* Being interpreted and dynamically typed makes it great for data analysis\n",
    "* Robust ecosystem of scientific libraries, including powerful statistical and visualization packages\n",
    "* Large community of scientific users and large existing codebases\n",
    "* Major investment into Python ecosystem by Earth science research agencies, including NASA, NCAR, UK Met Office, and Lamont-Doherty Earth Observatory. See [Pangeo](https://pangeo.io/collaborators.html).\n",
    "* Reads Earth science data formats like HDF, NetCDF, GRIB\n",
    "\n",
    "Cons\n",
    "\n",
    "* Performance penalties for interpreted languages, although many libraries are wrappers for compiled languages. Avoid large loops in favor of matrix/vector operations when possible.\n",
    "* Multithreading is limited due to the Global Interpreter Lock, but other parallelism is available\n",
    "* See Julia for a modern scientific language which is trying to overcome these challenges\n",
    "\n",
    "### Why we use Python 3?\n",
    "* As of January 2020 Python 2 would come to end of life\n",
    "    * No more updates or bugfixes\n",
    "    * No further official support\n",
    "* Subtle differences: https://www.geeksforgeeks.org/important-differences-between-python-2-x-and-python-3-x-with-examples/\n",
    "\n",
    "---\n",
    "\n",
    "## Objective\n",
    "\n",
    "* You won't learn how to code in Python\n",
    "* You will learn to:\n",
    "\t* Read/write ascii data\n",
    "\t* Basic plotting and visualization\n",
    "\t* Saving files and data\n",
    "* By the end of this class, you should be able to __analyze and visualize satellite datasets.__\n",
    "    \n",
    "---\n",
    "\n",
    "Python is an interpretted language, so you as minimum you need to have Python on your computer.\n",
    "\n",
    "## Packages\n",
    "\n",
    "Packages give us additional functionality, saving us the trouble of writing procedures ourselves. There are ~6000 packages in the [conda-forge repository](https://anaconda.org/conda-forge/repo) alone!\n",
    "\n",
    "In this workshop, along with others, we'll discuss:\n",
    "\n",
    "* [NumPy](http://www.numpy.org/) Fast mathematical operations on large datasets.\n",
    "* [xarray](http://xarray.pydata.org/) Makes working with multidimensional data eay and effient. Introduces labels in the form of dimensions, coordinates and attributes on top of raw NumPy-like arrays\n",
    "* [Matplotlib](https://matplotlib.org) Primarily python plotting/visualization package. You can generate plots, histograms, scatterplots, etc., with just a few lines of code.\n",
    "* [Cartopy](https://scitools.org.uk/cartopy/) Package designed for geospatial data processing in order to produce maps and other geospatial data analyses.\n",
    "\n",
    "---\n",
    "\n",
    "## What is Anaconda?\n",
    "\n",
    "* Anaconda is a package manager\n",
    "* Comes bundled with Python, a lot of useful scientific/mathematical packages, and development environments.\n",
    "* Easiest place to start if you new\n",
    "\n",
    "---\n",
    "\n",
    "## Development environments\n",
    "\n",
    "* Spyder: most Matlab-like\n",
    "* Jupyter notebooks: web based. Similar to Mathematica, runs code inline\n",
    "* Text editor + run with command line for scripting\n",
    "\n",
    "---\n",
    "## Launching Jupyter Notebook\n",
    "\n",
    "### Linux/Mac\n",
    "\n",
    "* Open terminal, **cd to the directory where you have your notebooks and data**, and type:\n",
    "```\n",
    "jupyter notebook    \n",
    "```\n",
    "\n",
    "### Windows\n",
    "\n",
    "* Start &rarr; Anaconda3 &rarr; Jupyter Notebook\n",
    "\n",
    "\n",
    "## Jupyter Home Screen\n",
    "\n",
    "* This will launch your default web browser with a local webserver that displays the contents of the directory that you're working in.\n",
    "\n",
    "* Note: in all the examples, the path assumed that jupyter is launched from the notebook directory. You will need to change the path to point to your data if this is different.\n",
    "\n",
    "* Click on New on the top right."
   ]
  },
  {
   "cell_type": "markdown",
   "metadata": {},
   "source": [
    "<div class=\"alert alert-block alert-info\">\n",
    "\n",
    "<b> Exercise 1: Set-up your environment and create a notebook </b>\n",
    "\n",
    "* For your opertating system, launch Jupyter Notebooks\n",
    "* Create a new notebook\n",
    "* Change the name from \"untitled\" to something better\n",
    "* Save in the __same directory as the data folder__ that we provided (or move the data directory to the same place at the file because we'll need it later!).\n",
    "\n",
    "</div>"
   ]
  },
  {
   "cell_type": "markdown",
   "metadata": {},
   "source": [
    "## Very Basic Python Commands\n"
   ]
  },
  {
   "cell_type": "code",
   "execution_count": 2,
   "metadata": {},
   "outputs": [
    {
     "name": "stdout",
     "output_type": "stream",
     "text": [
      "Hello, World!\n"
     ]
    }
   ],
   "source": [
    "# This is how we comment nad below is how we print\n",
    "print (\"Hello, World!\")"
   ]
  },
  {
   "cell_type": "code",
   "execution_count": 12,
   "metadata": {},
   "outputs": [
    {
     "name": "stdout",
     "output_type": "stream",
     "text": [
      "0\n",
      "1\n",
      "2\n",
      "3\n",
      "4\n"
     ]
    }
   ],
   "source": [
    "# for loop\n",
    "max=5\n",
    "for i in range(5):\n",
    "    print (i)\n",
    "    "
   ]
  },
  {
   "cell_type": "code",
   "execution_count": 8,
   "metadata": {},
   "outputs": [
    {
     "name": "stdout",
     "output_type": "stream",
     "text": [
      "List of hurricanes in 2019.\n",
      "1 . Barry\n",
      "2 . Dorian\n",
      "3 . Humberto\n",
      "4 . Jerry\n",
      "5 . Lorenzo\n",
      "6 . Pablo\n"
     ]
    }
   ],
   "source": [
    "# iterating over list elements\n",
    "print (\"List of hurricanes in 2019.\")\n",
    "list_name=[\"Barry\",\"Dorian\",\"Humberto\", \"Jerry\",\"Lorenzo\", \"Pablo\"]\n",
    "for idx, name in enumerate(list_name): #notice the colon at the end\n",
    "    print (idx+1, name) #because index starts from zero in python"
   ]
  },
  {
   "cell_type": "code",
   "execution_count": 21,
   "metadata": {},
   "outputs": [
    {
     "name": "stdout",
     "output_type": "stream",
     "text": [
      "[1, 2, 3, 4, 5, 6, 1, 2, 3, 4, 5, 6]\n"
     ]
    }
   ],
   "source": [
    "# lists vs array\n",
    "a= [1,2,3,4,5,6]\n",
    "b=a*2\n",
    "print (b)\n"
   ]
  },
  {
   "cell_type": "markdown",
   "metadata": {},
   "source": [
    "* Math didn't \"happen\" because it was a list, not a number array or matrix.\n",
    "* Need to use an additional package to do matrix operation\n",
    "\n"
   ]
  },
  {
   "cell_type": "markdown",
   "metadata": {},
   "source": [
    "## Numpy\n",
    "* Provides a high-performance multidimensional array object and tools for working with these arrays.\n",
    "* fundamental package for scientific computing with Python\n",
    "* Mostly comes with anaconda installation\n",
    "\n",
    "For more examples than presented below, please refer https://numpy.org/devdocs/user/quickstart.html\n"
   ]
  },
  {
   "cell_type": "code",
   "execution_count": 18,
   "metadata": {},
   "outputs": [],
   "source": [
    "# Importing numpy\n",
    "import numpy as np # np becomes the alias for numpy\n"
   ]
  },
  {
   "cell_type": "code",
   "execution_count": 22,
   "metadata": {},
   "outputs": [
    {
     "name": "stdout",
     "output_type": "stream",
     "text": [
      "[ 2  4  6  8 10 12]\n"
     ]
    }
   ],
   "source": [
    "# Numpy arrays\n",
    "a=np.array(a) # a is now a numpy array\n",
    "b=a*2\n",
    "print (b)\n"
   ]
  },
  {
   "cell_type": "code",
   "execution_count": 23,
   "metadata": {},
   "outputs": [
    {
     "name": "stdout",
     "output_type": "stream",
     "text": [
      "[[1 2]\n",
      " [3 4]\n",
      " [5 6]]\n"
     ]
    }
   ],
   "source": [
    "# Reshaping arrays\n",
    "a_reshaped = a.reshape(3,2)\n",
    "print (a_reshaped)"
   ]
  },
  {
   "cell_type": "code",
   "execution_count": 30,
   "metadata": {},
   "outputs": [
    {
     "name": "stdout",
     "output_type": "stream",
     "text": [
      "[ 9 12]\n",
      "[ 3  7 11]\n",
      "21\n"
     ]
    }
   ],
   "source": [
    "# Sum of array elements\n",
    "print (np.sum(a_reshaped,axis=0)) # Sum of elements along axis 0\n",
    "print (a_reshaped.sum(axis=1))\n",
    "print (a_reshaped.sum())          # Sum of all elements"
   ]
  },
  {
   "cell_type": "code",
   "execution_count": 36,
   "metadata": {},
   "outputs": [
    {
     "name": "stdout",
     "output_type": "stream",
     "text": [
      "[5 6]\n"
     ]
    }
   ],
   "source": [
    "# Other basic math functions\n",
    "print (a_reshaped.max(axis=0))"
   ]
  },
  {
   "cell_type": "markdown",
   "metadata": {},
   "source": [
    "### Numpy masked arrays\n",
    "* For doing numpy like operations on arrays with missing or invalid values\n",
    "* Operations with masked arrays generally slower than numpy.ndarray\n",
    "* A masked array has two componenents\n",
    "    * numpy.ndarray\n",
    "    * mask\n",
    "    \n",
    "For details refer:\n",
    "https://docs.scipy.org/doc/numpy/reference/maskedarray.generic.html"
   ]
  },
  {
   "cell_type": "code",
   "execution_count": 39,
   "metadata": {},
   "outputs": [
    {
     "name": "stdout",
     "output_type": "stream",
     "text": [
      "[-- -- 3 4 5 6]\n"
     ]
    }
   ],
   "source": [
    "import numpy.ma as ma\n",
    "\n",
    "# lets mask values smaller ot equal to 2\n",
    "masked_a = ma.masked_array(a, mask=[1, 1, 0, 0, 0,0]) # with an explicit mask\n",
    "print (masked_a)\n",
    "\n"
   ]
  },
  {
   "cell_type": "code",
   "execution_count": 41,
   "metadata": {},
   "outputs": [
    {
     "name": "stdout",
     "output_type": "stream",
     "text": [
      "[-- -- 3 4 5 6]\n"
     ]
    }
   ],
   "source": [
    "# Create mask using conditions\n",
    "masked_a2 = ma.masked_where(a <= 2, a)\n",
    "print (masked_a2)"
   ]
  },
  {
   "cell_type": "code",
   "execution_count": null,
   "metadata": {},
   "outputs": [],
   "source": []
  }
 ],
 "metadata": {
  "celltoolbar": "Slideshow",
  "kernelspec": {
   "display_name": "Python 3",
   "language": "python",
   "name": "python3"
  },
  "language_info": {
   "codemirror_mode": {
    "name": "ipython",
    "version": 3
   },
   "file_extension": ".py",
   "mimetype": "text/x-python",
   "name": "python",
   "nbconvert_exporter": "python",
   "pygments_lexer": "ipython3",
   "version": "3.6.9"
  }
 },
 "nbformat": 4,
 "nbformat_minor": 2
}
